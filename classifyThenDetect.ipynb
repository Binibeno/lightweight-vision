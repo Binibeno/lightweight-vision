{
 "cells": [
  {
   "cell_type": "code",
   "execution_count": 8,
   "metadata": {},
   "outputs": [],
   "source": [
    "from PIL import Image\n",
    "from transformers import pipeline\n",
    "import numpy as np\n",
    "from pathlib import Path\n",
    "\n",
    "import cv2"
   ]
  },
  {
   "cell_type": "code",
   "execution_count": 9,
   "metadata": {},
   "outputs": [
    {
     "name": "stderr",
     "output_type": "stream",
     "text": [
      "Device set to use cpu\n"
     ]
    },
    {
     "name": "stdout",
     "output_type": "stream",
     "text": [
      "depth est. init\n"
     ]
    }
   ],
   "source": [
    "init()\n"
   ]
  },
  {
   "cell_type": "code",
   "execution_count": 10,
   "metadata": {
    "notebookRunGroups": {
     "groupValue": "1"
    }
   },
   "outputs": [
    {
     "name": "stdout",
     "output_type": "stream",
     "text": [
      "bottle\n",
      "Average depth of the object: 132.75490909090908\n"
     ]
    },
    {
     "data": {
      "image/png": "[encoded data removed]",
      "text/plain": [
       "<Figure size 640x480 with 1 Axes>"
      ]
     },
     "metadata": {},
     "output_type": "display_data"
    },
    {
     "name": "stdout",
     "output_type": "stream",
     "text": [
      "bottle\n",
      "Average depth of the object: 91.06115498876893\n"
     ]
    },
    {
     "data": {
      "image/png": "[encoded data removed]",
      "text/plain": [
       "<Figure size 640x480 with 1 Axes>"
      ]
     },
     "metadata": {},
     "output_type": "display_data"
    },
    {
     "name": "stdout",
     "output_type": "stream",
     "text": [
      "bottle\n",
      "Average depth of the object: 198.23772363264612\n"
     ]
    },
    {
     "data": {
      "image/png": "[encoded data removed]",
      "text/plain": [
       "<Figure size 640x480 with 1 Axes>"
      ]
     },
     "metadata": {},
     "output_type": "display_data"
    }
   ],
   "source": [
    "estimate(bottleFrameDetected, bottleBox, bottleMask, segmentResults)"
   ]
  },
  {
   "cell_type": "code",
   "execution_count": 14,
   "metadata": {},
   "outputs": [],
   "source": [
    "from PIL import Image\n",
    "from transformers import pipeline\n",
    "import numpy as np\n",
    "\n",
    "pipe = None\n",
    "\n",
    "def init():\n",
    "    global pipe\n",
    "    pipe = pipeline(task=\"depth-estimation\", model=\"depth-anything/Depth-Anything-V2-Small-hf\")\n",
    "    print(\"depth est. init\")\n",
    "\n",
    "def calculateDepth(picam_array):\n",
    "    pi_image = Image.fromarray(picam_array)\n",
    "    # inference\n",
    "    depth = pipe(pi_image)[\"depth\"]\n",
    "    depth.save(\"output/depth_estimation.png\")\n",
    "\n",
    "    # calculate the depth of the bottle\n",
    "    # calculate average depth of pixels inside mask\n",
    "    depth_array = np.array(depth)\n",
    "    return depth_array\n",
    "\n",
    "def estimate(picam_array, bottleBox, masks, res):\n",
    "    # Iterate detection results \n",
    "    for r in res:\n",
    "        img = np.copy(r.orig_img)\n",
    "        img_name = Path(r.path).stem\n",
    "\n",
    "        # Iterate each object contour \n",
    "        for ci, c in enumerate(r):\n",
    "            label = c.names[c.boxes.cls.tolist().pop()]\n",
    "            print(label)\n",
    "\n",
    "            # just a full black mask\n",
    "            b_mask = np.zeros(img.shape[:2], np.uint8)\n",
    "\n",
    "            # Create contour mask \n",
    "            contour = c.masks.xy.pop().astype(np.int32).reshape(-1, 1, 2)\n",
    "            _ = cv2.drawContours(b_mask, [contour], -1, (255, 255, 255), cv2.FILLED)\n",
    "\n",
    "            # Choose one:\n",
    "\n",
    "            # OPTION-1: Isolate object with black background\n",
    "            mask3ch = cv2.cvtColor(b_mask, cv2.COLOR_GRAY2BGR)\n",
    "            # isolated = cv2.bitwise_and(mask3ch, img)\n",
    "\n",
    "            depthImage = calculateDepth(picam_array)\n",
    "            # print(\"Shape of mask3ch\" ,mask3ch)\n",
    "            # print(\"Shape of depth array\", depthImage)\n",
    "\n",
    "            # Convert depthImage to 3-channel image\n",
    "            depthImage_3ch = cv2.cvtColor(depthImage, cv2.COLOR_GRAY2BGR)\n",
    "            isolated = cv2.bitwise_and(mask3ch, depthImage_3ch)\n",
    "\n",
    "            # Calculate the average depth value for the masked object\n",
    "            masked_depth = cv2.bitwise_and(depthImage, depthImage, mask=b_mask)\n",
    "            average_depth = cv2.mean(masked_depth, mask=b_mask)[0]\n",
    "            print(f\"Average depth of the object: {average_depth}\")\n",
    "\n",
    "            import matplotlib.pyplot as plt\n",
    "\n",
    "            # Display the isolated object using matplotlib\n",
    "            plt.imshow(cv2.cvtColor(isolated, cv2.COLOR_BGR2RGB))\n",
    "            plt.axis('off')\n",
    "            plt.show()\n",
    "\n",
    "\n",
    "\n",
    "\n",
    "\n",
    "def estimate2(picam_array, bottleBox, masks, results):\n",
    "    pi_image = Image.fromarray(picam_array)\n",
    "    # inference\n",
    "    depth = pipe(pi_image)[\"depth\"]\n",
    "    depth.save(\"output/depth_estimation.png\")\n",
    "\n",
    "    # calculate the depth of the bottle\n",
    "    # calculate average depth of pixels inside mask\n",
    "    depth_array = np.array(depth)\n",
    "\n",
    "    b_mask = np.zeros(depth_array.shape[:2], np.uint8)\n",
    "\n",
    "\n",
    "    contour = c.masks.xy.pop().astype(np.int32).reshape(-1, 1, 2)\n",
    "    _ = cv2.drawContours(b_mask, [contour], -1, (255, 255, 255), cv2.FILLED)\n",
    "    average_depth = np.mean(contour)\n",
    "\n",
    "    print(f\"Average depth of the bottle: {average_depth}\")\n",
    "\n",
    "    return average_depth\n",
    "\n"
   ]
  },
  {
   "cell_type": "code",
   "execution_count": 12,
   "metadata": {},
   "outputs": [],
   "source": [
    "import cv2\n",
    "from picamera2 import Picamera2\n",
    "\n",
    "from ultralytics import YOLO\n",
    "from libcamera import Transform\n",
    "import time\n",
    "\n",
    "# from depthest import init, estimate"
   ]
  },
  {
   "cell_type": "code",
   "execution_count": 16,
   "metadata": {},
   "outputs": [
    {
     "name": "stdout",
     "output_type": "stream",
     "text": [
      "init\n"
     ]
    },
    {
     "name": "stderr",
     "output_type": "stream",
     "text": [
      "[187:12:12.437450857] [1091532] \u001b[1;32m INFO \u001b[1;37mCamera \u001b[1;34mcamera.cpp:1197 \u001b[0mconfiguring streams: (0) 640x310-RGB888 (1) 1536x864-SGRBG10_CSI2P\n",
      "[187:12:12.437945588] [1091810] \u001b[1;32m INFO \u001b[1;37mRPI \u001b[1;34mvc4.cpp:622 \u001b[0mSensor: /base/soc/i2c0mux/i2c@1/imx708@1a - Selected sensor format: 1536x864-SGRBG10_1X10 - Selected unicam format: 1536x864-pgAA\n"
     ]
    },
    {
     "name": "stdout",
     "output_type": "stream",
     "text": [
      "\n",
      "0: 224x224 water_bottle 0.79, pop_bottle 0.11, saltshaker 0.06, beer_bottle 0.01, water_jug 0.01, 171.6ms\n",
      "Speed: 20.5ms preprocess, 171.6ms inference, 0.1ms postprocess per image at shape (1, 3, 224, 224)\n",
      "0\n",
      "Bottle found with class index 898\n",
      "\n",
      "0: 320x640 3 bottles, 806.0ms\n",
      "Speed: 5.1ms preprocess, 806.0ms inference, 12.1ms postprocess per image at shape (1, 3, 320, 640)\n",
      "Error! More than one bottle detected. Using the first one.\n",
      "Error! More than one bottle detected. Using the first one.\n",
      "Error! More than one bottle detected. Using the first one.\n"
     ]
    },
    {
     "name": "stderr",
     "output_type": "stream",
     "text": [
      "Device set to use cpu\n"
     ]
    },
    {
     "name": "stdout",
     "output_type": "stream",
     "text": [
      "depth est. init\n",
      "bottle\n",
      "Average depth of the object: 72.61605415860735\n"
     ]
    },
    {
     "data": {
      "image/png": "[encoded data removed]",
      "text/plain": [
       "<Figure size 640x480 with 1 Axes>"
      ]
     },
     "metadata": {},
     "output_type": "display_data"
    },
    {
     "name": "stdout",
     "output_type": "stream",
     "text": [
      "bottle\n",
      "Average depth of the object: 163.27420701168614\n"
     ]
    },
    {
     "data": {
      "image/png": "[encoded data removed]",
      "text/plain": [
       "<Figure size 640x480 with 1 Axes>"
      ]
     },
     "metadata": {},
     "output_type": "display_data"
    },
    {
     "name": "stdout",
     "output_type": "stream",
     "text": [
      "bottle\n",
      "Average depth of the object: 173.29507606907893\n"
     ]
    },
    {
     "data": {
      "image/png": "[encoded data removed]",
      "text/plain": [
       "<Figure size 640x480 with 1 Axes>"
      ]
     },
     "metadata": {},
     "output_type": "display_data"
    }
   ],
   "source": [
    "\n",
    "print(\"init\")\n",
    "with Picamera2() as picam2:\n",
    "    # Initialize the Picamera2\n",
    "    # picam2 = Picamera2()\n",
    "\n",
    "    # default\n",
    "    # picam2.preview_configuration.main.size = (1280, 720)\n",
    "    picam2.preview_configuration.main.size = (640, 310)\n",
    "    # picam2.preview_configuration.main.size = (640 /2, 310/2)\n",
    "\n",
    "    picam2.preview_configuration.main.format = \"RGB888\"\n",
    "    picam2.preview_configuration.align()\n",
    "    picam2.preview_configuration.transform=Transform(vflip=1)\n",
    "    picam2.configure(\"preview\")\n",
    "    picam2.start()\n",
    "\n",
    "\n",
    "    # Load the YOLO11 model\n",
    "    # have to run create model first \n",
    "    segmentModel = YOLO(\"yolo11n-seg.pt\")  \n",
    "    model = YOLO(\"yolo11n-cls.pt\")\n",
    "\n",
    "    instantBreak = False\n",
    "\n",
    "\n",
    "    # used to record the time when we processed last frame \n",
    "    prev_frame_time = 0\n",
    "    \n",
    "    # used to record the time at which we processed current frame \n",
    "    new_frame_time = 0\n",
    "    # font which we will be using to display FPS \n",
    "    font = cv2.FONT_HERSHEY_SIMPLEX \n",
    "\n",
    "    bottleFrameDetected = None\n",
    "    bottleFrameNew = None\n",
    "\n",
    "    results = None\n",
    "    bottleBox = None\n",
    "\n",
    "    while True:\n",
    "        # time when we finish processing for this frame \n",
    "        # ! do all processing below this, and above the fps calculator\n",
    "        new_frame_time = time.time() \n",
    "\n",
    "        # Capture frame-by-frame\n",
    "        frame = picam2.capture_array()\n",
    "\n",
    "        # Run YOLO11 inference on the frame\n",
    "        results = model(frame)\n",
    "\n",
    "        # print(results)\n",
    "        # Visualize the results on the frame\n",
    "        # annotated_frame = results[0].plot()\n",
    "\n",
    "        new_frame_time = time.time() \n",
    "    \n",
    "        # Calculating the fps \n",
    "        fps = 1/(new_frame_time-prev_frame_time) \n",
    "        prev_frame_time = new_frame_time \n",
    "        fps = int(fps) \n",
    "        fps = str(fps) \n",
    "        # cv2.putText(annotated_frame, fps, (7, 70), font, 3, (100, 255, 0), 3, cv2.LINE_AA) \n",
    "        print(fps)\n",
    "        # Check if a bottle has been recognized\n",
    "        for result in results:\n",
    "            # probs = result.probs  # Probs object for classification outputs\n",
    "            # print(probs)\n",
    "            # classification model\n",
    "            if result.probs != None:\n",
    "                # print(\"Top 5 classes\", result.probs.top5)\n",
    "                # https://gist.github.com/yrevar/942d3a0ac09ec9e5eb3a\n",
    "                # 440: beer_bottle\n",
    "                # 898: water bottle\n",
    "                if 898 in result.probs.top5:\n",
    "                    print(\"Bottle found with class index 898\")\n",
    "                    bottleFrameDetected = frame\n",
    "                    instantBreak = True\n",
    "                    break;\n",
    "\n",
    "\n",
    "            # for detection in result.boxes:\n",
    "            # #     # Assuming detection.cls is an integer index for the class\n",
    "            #     bottleBox = detection\n",
    "            #     if detection.cls == 39:  # correct class index for \"bottle\"\n",
    "            #         print(\"Bottle recognized\", )\n",
    "            #         print(\"Probabilty\", detection.conf)\n",
    "            #         bottleFrameDetected = frame\n",
    "            #         instantBreak = True\n",
    "            #         break\n",
    "\n",
    "\n",
    "        # Display the resulting frame\n",
    "        # cv2.imshow(\"Camera\", annotated_frame)\n",
    "\n",
    "        if instantBreak:\n",
    "            break\n",
    "        # Break the loop if 'q' is pressed\n",
    "        if cv2.waitKey(1) == ord(\"q\"):\n",
    "            print(\"\")\n",
    "            break\n",
    "\n",
    "    # Release resources and close windows\n",
    "    cv2.destroyAllWindows()\n",
    "\n",
    "    # https://docs.ultralytics.com/modes/predict/#__tabbed_1_1\n",
    "    if bottleFrameDetected is not None:\n",
    "        # Capture a new frame of the bottle\n",
    "        # should not be blurry\n",
    "        bottleFrameNew = picam2.capture_array()\n",
    "        cv2.imwrite(\"output/bottle_new.png\", bottleFrameNew)\n",
    "\n",
    "    # Process results list\n",
    "    # results for bottleFrameDetected\n",
    "    for result in results:\n",
    "        boxes = result.boxes  # Boxes object for bounding box outputs\n",
    "        masks = result.masks  # Masks object for segmentation masks outputs\n",
    "        keypoints = result.keypoints  # Keypoints object for pose outputs\n",
    "        probs = result.probs  # Probs object for classification outputs\n",
    "        obb = result.obb  # Oriented boxes object for OBB outputs\n",
    "        # result.show()  # display to screen\n",
    "        result.save(filename=\"output/bottle_detected.png\")  # save to disk\n",
    "\n",
    "    # segmnet\n",
    "    segmentResults = segmentModel.predict(source=bottleFrameDetected, classes=39)\n",
    "    bottleMask = None\n",
    "    # Process results list\n",
    "    for result in segmentResults:\n",
    "        result.save(filename=\"output/segmented.jpg\")  # save to disk\n",
    "\n",
    "        if (result.masks.shape[0] > 1) :\n",
    "            print(\"Error! More than one bottle detected. Using the first one.\")\n",
    "            print(\"Error! More than one bottle detected. Using the first one.\")\n",
    "            print(\"Error! More than one bottle detected. Using the first one.\")\n",
    "\n",
    "        bottleMask = result.masks[0]  # Masks object for segmentation masks outputs\n",
    "\n",
    "    init()\n",
    "    estimate(bottleFrameDetected, bottleBox, bottleMask, segmentResults)\n",
    "\n",
    "\n",
    "\n",
    "\n",
    "# Stop the camera to free up resources\n",
    "picam2.stop() \n",
    "picam2.stop_encoder()\n",
    "\n",
    "del picam2\n"
   ]
  }
 ],
 "metadata": {
  "kernelspec": {
   "display_name": "env",
   "language": "python",
   "name": "python3"
  },
  "language_info": {
   "codemirror_mode": {
    "name": "ipython",
    "version": 3
   },
   "file_extension": ".py",
   "mimetype": "text/x-python",
   "name": "python",
   "nbconvert_exporter": "python",
   "pygments_lexer": "ipython3",
   "version": "3.11.2"
  }
 },
 "nbformat": 4,
 "nbformat_minor": 2
}
