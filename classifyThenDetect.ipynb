{
 "cells": [
  {
   "cell_type": "code",
   "execution_count": 28,
   "metadata": {},
   "outputs": [],
   "source": [
    "from PIL import Image\n",
    "from transformers import pipeline\n",
    "import numpy as np\n",
    "from pathlib import Path\n",
    "\n",
    "import cv2"
   ]
  },
  {
   "cell_type": "code",
   "execution_count": 29,
   "metadata": {},
   "outputs": [],
   "source": [
    "import cv2\n",
    "import torch\n",
    "import numpy as np\n",
    "import matplotlib\n",
    "\n",
    "import time\n",
    "from picamera2 import Picamera2\n",
    "from libcamera import Transform\n",
    "import matplotlib.pyplot as plt\n",
    "\n",
    "# import from folder Depth-Anything-V2/depth_anything_v2/\n",
    "from depth_anything_v2.dpt import DepthAnythingV2\n"
   ]
  },
  {
   "cell_type": "code",
   "execution_count": 30,
   "metadata": {},
   "outputs": [],
   "source": [
    "\n",
    "model = None\n",
    "def init():\n",
    "    global model\n",
    "# small, base, \n",
    "    model_configs = {\n",
    "        'vits': {'encoder': 'vits', 'features': 64, 'out_channels': [48, 96, 192, 384]},\n",
    "        'vitb': {'encoder': 'vitb', 'features': 128, 'out_channels': [96, 192, 384, 768]},\n",
    "        'vitl': {'encoder': 'vitl', 'features': 256, 'out_channels': [256, 512, 1024, 1024]}\n",
    "    }\n",
    "\n",
    "    encoder = 'vits' # or 'vits', 'vitb'\n",
    "    dataset = 'hypersim' # 'hypersim' for indoor model, 'vkitti' for outdoor model\n",
    "    max_depth = 20 # 20 for indoor model, 80 for outdoor model\n",
    "\n",
    "    #! removed max depth\n",
    "    model = DepthAnythingV2(**{**model_configs[encoder], 'max_depth': max_depth})\n",
    "    # download models from: \n",
    "    model.load_state_dict(torch.load(f'checkpoints/depth_anything_v2_metric_{dataset}_{encoder}.pth', map_location='cpu'))\n",
    "    model.eval()\n",
    "\n",
    "\n",
    "\n",
    "\n",
    "def calculateDepth(picam_array):\n",
    "    global original_depth\n",
    "    raw_img = picam_array\n",
    "\n",
    "    start_time = time.time()\n",
    "    original_depth = model.infer_image(raw_img) # HxW depth map in meters in numpy\n",
    "    end_time = time.time()\n",
    "\n",
    "    print(f\"Inference time: {end_time - start_time} seconds\")\n",
    "\n",
    "    depth = original_depth.copy()\n",
    "    depth = (depth - depth.min()) / (depth.max() - depth.min()) * 255.0\n",
    "    depth = depth.astype(np.uint8)\n",
    "    cmap = matplotlib.colormaps.get_cmap('Spectral')\n",
    "\n",
    "    depth = (cmap(depth)[:, :, :3] * 255)[:, :, ::-1].astype(np.uint8)\n",
    "\n",
    "    cv2.imwrite('output/metric_depth_map.png', depth)\n",
    "\n",
    "\n",
    "    model_base = original_depth.copy()\n",
    "\n",
    "\n",
    "    # plt.imshow(original_depth)\n",
    "    # plt.colorbar(label='Depth (m)')\n",
    "\n",
    "    return np.array(model_base)\n",
    "\n",
    "\n",
    "\n",
    "\n",
    "\n",
    "# init()\n",
    "# estimate(bottleFrameDetected, bottleBox, bottleMask, segmentResults)\n",
    "\n",
    "# test: adding 13.5cm to entire image, vs just adding 13.5cm at the end\n"
   ]
  },
  {
   "cell_type": "code",
   "execution_count": 31,
   "metadata": {},
   "outputs": [],
   "source": [
    "\n",
    "def evalSideHelper(index, r):\n",
    "    def get_center(c):\n",
    "        moments = cv2.moments(c.masks.xy.pop().astype(np.int32).reshape(-1, 1, 2))\n",
    "        if moments[\"m00\"] != 0:\n",
    "            return moments[\"m10\"] / moments[\"m00\"]\n",
    "        return None\n",
    "\n",
    "    centers = []\n",
    "    for i, c in enumerate(r):\n",
    "        center = get_center(c)\n",
    "        if center is not None:\n",
    "            centers.append((center, i))\n",
    "    centers = sorted(centers)\n",
    "\n",
    "    if len(centers) == 3:\n",
    "        if centers[0][1] == index:\n",
    "            return \"left\"\n",
    "        elif centers[1][1] == index:\n",
    "            return \"center\"\n",
    "        else:\n",
    "            return \"right\"\n",
    "    elif len(centers) == 2:\n",
    "        if centers[0][1] == index:\n",
    "            return \"left\"\n",
    "        else:\n",
    "            return \"right\""
   ]
  },
  {
   "cell_type": "code",
   "execution_count": 32,
   "metadata": {},
   "outputs": [],
   "source": [
    "import cv2\n",
    "import numpy as np\n",
    "\n",
    "def erode_contour(contour, image_shape, kernel_size=5, iterations=1):\n",
    "    \"\"\"\n",
    "    Shrinks a contour by applying morphological erosion.\n",
    "\n",
    "    Parameters:\n",
    "    - contour: np.array, the original contour (Nx1x2)\n",
    "    - image_shape: tuple, (height, width) of the image/mask\n",
    "    - kernel_size: int, size of the erosion kernel (must be odd, e.g., 3, 5, 7)\n",
    "    - iterations: int, number of erosion steps (more iterations = more shrinking)\n",
    "\n",
    "    Returns:\n",
    "    - new_contour: np.array, the shrunken contour\n",
    "    \"\"\"\n",
    "    # Create a blank mask\n",
    "    mask = np.zeros(image_shape, dtype=np.uint8)\n",
    "\n",
    "    # Draw the contour as a filled shape\n",
    "    cv2.drawContours(mask, [contour], -1, 255, thickness=cv2.FILLED)\n",
    "\n",
    "    # Define an erosion kernel\n",
    "    kernel = np.ones((kernel_size, kernel_size), np.uint8)\n",
    "\n",
    "    # Apply erosion to shrink the contour\n",
    "    eroded_mask = cv2.erode(mask, kernel, iterations=iterations)\n",
    "\n",
    "    # Extract the new smaller contour\n",
    "    new_contours, _ = cv2.findContours(eroded_mask, cv2.RETR_EXTERNAL, cv2.CHAIN_APPROX_SIMPLE)\n",
    "\n",
    "    # Return the first found contour (if any)\n",
    "    return new_contours[0] if new_contours else None\n"
   ]
  },
  {
   "cell_type": "code",
   "execution_count": 33,
   "metadata": {},
   "outputs": [],
   "source": [
    "from PIL import Image\n",
    "from transformers import pipeline\n",
    "import numpy as np\n",
    "import matplotlib.pyplot as plt\n",
    "\n",
    "pipe = None\n",
    "\n",
    "# for debug purposes\n",
    "depthImage = None \n",
    "\n",
    "def estimate(picam_array, bottleBox, masks, res):\n",
    "    global depthImage\n",
    "    \n",
    "    print(\"Starting depth estimation. This will take about 20-30 seconds\")\n",
    "    depthImage = calculateDepth(picam_array)\n",
    "    # values are: avarage, maximum, centerpoint, 3x3 avg, 3x3 max\n",
    "    depth_values = {\n",
    "        \"left\": [None, None, None, ],\n",
    "        \"center\": [None, None, None],\n",
    "        \"right\": [None, None, None]\n",
    "    }\n",
    "\n",
    "\n",
    "\n",
    "    # Iterate detection results \n",
    "    for r in res:\n",
    "\n",
    "        img = np.copy(r.orig_img)\n",
    "        img_name = Path(r.path).stem\n",
    "\n",
    "        # Iterate each object contour \n",
    "        for ci, c in enumerate(r):\n",
    "            label = c.names[c.boxes.cls.tolist().pop()]\n",
    "            print(f\"{ci + 1}. {label}\")\n",
    "            \n",
    "            sideString = \"center\"\n",
    "            if len(r) > 1:\n",
    "                sideString = evalSideHelper(ci, r)\n",
    "\n",
    "\n",
    "\n",
    "            # just a full black mask\n",
    "            b_mask = np.zeros(img.shape[:2], np.uint8)\n",
    "\n",
    "\n",
    "            # Create contour mask \n",
    "            bigcontour = c.masks.xy[0].astype(np.int32).reshape(-1, 1, 2)\n",
    "            smallerContour = erode_contour(bigcontour, b_mask.shape, kernel_size=5, iterations=4)\n",
    "\n",
    "            # ! warning ! uses smallerContour\n",
    "            _ = cv2.drawContours(b_mask, [smallerContour], -1, (255, 255, 255), cv2.FILLED)\n",
    "            contour = smallerContour\n",
    "\n",
    "            # Calculate the center point of the contour\n",
    "            M = cv2.moments(contour)\n",
    "            if M[\"m00\"] != 0:\n",
    "                cX = int(M[\"m10\"] / M[\"m00\"])\n",
    "                cY = int(M[\"m01\"] / M[\"m00\"])\n",
    "            else:\n",
    "                cX, cY = 0, 0\n",
    "            print(f\"Center point of the contour: ({cX}, {cY})\")\n",
    "\n",
    "            # get depth at centerpoint\n",
    "            depthAtBottleCenter = depthImage[cY, cX]\n",
    "\n",
    "\n",
    "            # Choose one:\n",
    "\n",
    "            # OPTION-1: Isolate object with black background\n",
    "            # mask3ch = cv2.cvtColor(b_mask, cv2.COLOR_GRAY2BGR)\n",
    "            # isolated = cv2.bitwise_and(mask3ch, img)\n",
    "\n",
    "\n",
    "            # Convert depthImage to 3-channel image\n",
    "            # depthImage_3ch = cv2.cvtColor(depthImage, cv2.COLOR_GRAY2BGR)\n",
    "            \n",
    "            isolated = cv2.bitwise_and(depthImage, depthImage, mask=b_mask)\n",
    "            \n",
    "            # Calculate the average depth value for the masked object\n",
    "            masked_depth = cv2.bitwise_and(depthImage, depthImage, mask=b_mask)\n",
    "            average_depth = cv2.mean(masked_depth, mask=b_mask)[0]\n",
    "\n",
    "\n",
    "            # add to depth_values\n",
    "            depth_values[sideString][0] = average_depth\n",
    "            # max depth of masked_depth\n",
    "            depth_values[sideString][1] = masked_depth.max()\n",
    "            depth_values[sideString][2] = depthAtBottleCenter\n",
    "\n",
    "            print(f\"Average depth of the object: {average_depth}\")\n",
    "\n",
    "            calibratedDistance = 0.15\n",
    "            print(f\"For calibration, adding {calibratedDistance}: {average_depth + calibratedDistance}\")\n",
    "\n",
    "\n",
    "\n",
    "            # Display the isolated object using matplotlib\n",
    "            plt.imshow(isolated)\n",
    "            plt.axis('off')\n",
    "            plt.show()\n",
    "\n",
    "    return depth_values\n",
    "\n",
    "     \n",
    "\n",
    "\n"
   ]
  },
  {
   "cell_type": "code",
   "execution_count": 34,
   "metadata": {},
   "outputs": [],
   "source": [
    "import cv2\n",
    "from picamera2 import Picamera2\n",
    "\n",
    "from ultralytics import YOLO\n",
    "from libcamera import Transform\n",
    "import time\n",
    "\n",
    "# from depthest import init, estimate"
   ]
  },
  {
   "cell_type": "code",
   "execution_count": 35,
   "metadata": {},
   "outputs": [],
   "source": [
    "def runModel():\n",
    "    bottleFrameDetected, bottleBox, bottleMask, segmentResults = None, None, None, None\n",
    "\n",
    "    finalEstimates = None\n",
    "    print(\"init\")\n",
    "    with Picamera2() as picam2:\n",
    "        # Initialize the Picamera2\n",
    "        # picam2 = Picamera2()\n",
    "\n",
    "        # default\n",
    "        # picam2.preview_configuration.main.size = (1280, 720)\n",
    "        picam2.preview_configuration.main.size = (640, 310)\n",
    "        # picam2.preview_configuration.main.size = (640 /2, 310/2)\n",
    "\n",
    "        picam2.preview_configuration.main.format = \"RGB888\"\n",
    "        picam2.preview_configuration.align()\n",
    "        picam2.preview_configuration.transform=Transform(vflip=1)\n",
    "        picam2.configure(\"preview\")\n",
    "        picam2.start()\n",
    "\n",
    "\n",
    "        # Load the YOLO11 model\n",
    "        # have to run create model first \n",
    "        segmentModel = YOLO(\"yolo11n-seg.pt\")  \n",
    "        model = YOLO(\"yolo11n-cls.pt\")\n",
    "\n",
    "        instantBreak = False\n",
    "\n",
    "\n",
    "        # used to record the time when we processed last frame \n",
    "        prev_frame_time = 0\n",
    "        \n",
    "        # used to record the time at which we processed current frame \n",
    "        new_frame_time = 0\n",
    "        # font which we will be using to display FPS \n",
    "        font = cv2.FONT_HERSHEY_SIMPLEX \n",
    "\n",
    "        bottleFrameDetected = None\n",
    "        bottleFrameNew = None\n",
    "\n",
    "        results = None\n",
    "        bottleBox = None\n",
    "\n",
    "        while True:\n",
    "            # time when we finish processing for this frame \n",
    "            # ! do all processing below this, and above the fps calculator\n",
    "            new_frame_time = time.time() \n",
    "\n",
    "            # Capture frame-by-frame\n",
    "            frame = picam2.capture_array()\n",
    "\n",
    "            # Run YOLO11 inference on the frame\n",
    "            results = model(frame)\n",
    "\n",
    "            # print(results)\n",
    "            # Visualize the results on the frame\n",
    "            # annotated_frame = results[0].plot()\n",
    "\n",
    "            new_frame_time = time.time() \n",
    "        \n",
    "            # Calculating the fps \n",
    "            fps = 1/(new_frame_time-prev_frame_time) \n",
    "            prev_frame_time = new_frame_time \n",
    "            fps = int(fps) \n",
    "            fps = str(fps) \n",
    "            # cv2.putText(annotated_frame, fps, (7, 70), font, 3, (100, 255, 0), 3, cv2.LINE_AA) \n",
    "            print(fps)\n",
    "            # Check if a bottle has been recognized\n",
    "            for result in results:\n",
    "                # probs = result.probs  # Probs object for classification outputs\n",
    "                # print(probs)\n",
    "                # classification model\n",
    "                if result.probs != None:\n",
    "                    # print(\"Top 5 classes\", result.probs.top5)\n",
    "                    # https://gist.github.com/yrevar/942d3a0ac09ec9e5eb3a\n",
    "                    # 440: beer_bottle\n",
    "                    # 898: water bottle\n",
    "                    if 898 in result.probs.top5:\n",
    "                        print(\"Bottle found with class index 898\")\n",
    "                        bottleFrameDetected = frame\n",
    "                        instantBreak = True\n",
    "                        break;\n",
    "\n",
    "\n",
    "                # for detection in result.boxes:\n",
    "                # #     # Assuming detection.cls is an integer index for the class\n",
    "                #     bottleBox = detection\n",
    "                #     if detection.cls == 39:  # correct class index for \"bottle\"\n",
    "                #         print(\"Bottle recognized\", )\n",
    "                #         print(\"Probabilty\", detection.conf)\n",
    "                #         bottleFrameDetected = frame\n",
    "                #         instantBreak = True\n",
    "                #         break\n",
    "\n",
    "\n",
    "            # Display the resulting frame\n",
    "            # cv2.imshow(\"Camera\", annotated_frame)\n",
    "\n",
    "            if instantBreak:\n",
    "                break\n",
    "            # Break the loop if 'q' is pressed\n",
    "            if cv2.waitKey(1) == ord(\"q\"):\n",
    "                print(\"\")\n",
    "                break\n",
    "\n",
    "        # Release resources and close windows\n",
    "        cv2.destroyAllWindows()\n",
    "\n",
    "        # https://docs.ultralytics.com/modes/predict/#__tabbed_1_1\n",
    "        if bottleFrameDetected is not None:\n",
    "            # Capture a new frame of the bottle\n",
    "            # should not be blurry\n",
    "            bottleFrameNew = picam2.capture_array()\n",
    "            cv2.imwrite(\"output/bottle_new.png\", bottleFrameNew)\n",
    "\n",
    "        # Process results list\n",
    "        # results for bottleFrameDetected\n",
    "        for result in results:\n",
    "            boxes = result.boxes  # Boxes object for bounding box outputs\n",
    "            masks = result.masks  # Masks object for segmentation masks outputs\n",
    "            keypoints = result.keypoints  # Keypoints object for pose outputs\n",
    "            probs = result.probs  # Probs object for classification outputs\n",
    "            obb = result.obb  # Oriented boxes object for OBB outputs\n",
    "            # result.show()  # display to screen\n",
    "            result.save(filename=\"output/bottle_detected.png\")  # save to disk\n",
    "\n",
    "        # segmnet\n",
    "        segmentResults = segmentModel.predict(source=bottleFrameDetected, classes=39)\n",
    "        bottleMask = None\n",
    "        # Process results list\n",
    "        for result in segmentResults:\n",
    "            result.save(filename=\"output/segmented.jpg\")  # save to disk\n",
    "\n",
    "            if (result.masks.shape[0] > 3) :\n",
    "                print(\"More than three bottles detected. Evaluation helper function can't handle more than three bottles..\")\n",
    "\n",
    "\n",
    "            bottleMask = result.masks[0]  # Masks object for segmentation masks outputs\n",
    "\n",
    "        init()\n",
    "        finalEstimates = estimate(bottleFrameDetected, bottleBox, bottleMask, segmentResults)\n",
    "\n",
    "\n",
    "\n",
    "\n",
    "    # Stop the camera to free up resources\n",
    "    picam2.stop() \n",
    "    picam2.stop_encoder()\n",
    "\n",
    "    del picam2\n",
    "\n",
    "    return finalEstimates\n"
   ]
  },
  {
   "cell_type": "code",
   "execution_count": 36,
   "metadata": {},
   "outputs": [
    {
     "name": "stdout",
     "output_type": "stream",
     "text": [
      "init\n"
     ]
    },
    {
     "name": "stderr",
     "output_type": "stream",
     "text": [
      "[1:55:20.161052279] [4243] \u001b[1;32m INFO \u001b[1;37mCamera \u001b[1;34mcamera_manager.cpp:325 \u001b[0mlibcamera v0.3.2+99-1230f78d\n",
      "[1:55:20.190318114] [24676] \u001b[1;33m WARN \u001b[1;37mRPiSdn \u001b[1;34msdn.cpp:40 \u001b[0mUsing legacy SDN tuning - please consider moving SDN inside rpi.denoise\n",
      "[1:55:20.192247234] [24676] \u001b[1;32m INFO \u001b[1;37mRPI \u001b[1;34mvc4.cpp:447 \u001b[0mRegistered camera /base/soc/i2c0mux/i2c@1/imx708@1a to Unicam device /dev/media3 and ISP device /dev/media0\n",
      "[1:55:20.192306123] [24676] \u001b[1;32m INFO \u001b[1;37mRPI \u001b[1;34mpipeline_base.cpp:1120 \u001b[0mUsing configuration file '/usr/share/libcamera/pipeline/rpi/vc4/rpi_apps.yaml'\n",
      "[1:55:20.200078677] [4243] \u001b[1;32m INFO \u001b[1;37mCamera \u001b[1;34mcamera.cpp:1197 \u001b[0mconfiguring streams: (0) 640x310-RGB888 (1) 1536x864-SGRBG10_CSI2P\n",
      "[1:55:20.200554711] [24676] \u001b[1;32m INFO \u001b[1;37mRPI \u001b[1;34mvc4.cpp:622 \u001b[0mSensor: /base/soc/i2c0mux/i2c@1/imx708@1a - Selected sensor format: 1536x864-SGRBG10_1X10 - Selected unicam format: 1536x864-pgAA\n"
     ]
    },
    {
     "name": "stdout",
     "output_type": "stream",
     "text": [
      "\n",
      "0: 224x224 water_bottle 0.52, pop_bottle 0.10, water_jug 0.04, beer_bottle 0.04, soap_dispenser 0.04, 153.0ms\n",
      "Speed: 18.2ms preprocess, 153.0ms inference, 0.1ms postprocess per image at shape (1, 3, 224, 224)\n",
      "0\n",
      "Bottle found with class index 898\n",
      "\n"
     ]
    },
    {
     "name": "stdout",
     "output_type": "stream",
     "text": [
      "0: 320x640 3 bottles, 1076.8ms\n",
      "Speed: 8.3ms preprocess, 1076.8ms inference, 11.0ms postprocess per image at shape (1, 3, 320, 640)\n",
      "Starting depth estimation. This will take about 20-30 seconds\n",
      "Inference time: 27.390364170074463 seconds\n",
      "1. bottle\n",
      "Center point of the contour: (155, 161)\n",
      "Average depth of the object: 1.0037441283941964\n",
      "For calibration, adding 0.15: 1.1537441283941963\n"
     ]
    },
    {
     "data": {
      "image/png": "[encoded data removed]",
      "text/plain": [
       "<Figure size 640x480 with 1 Axes>"
      ]
     },
     "metadata": {},
     "output_type": "display_data"
    },
    {
     "name": "stdout",
     "output_type": "stream",
     "text": [
      "2. bottle\n",
      "Center point of the contour: (351, 171)\n",
      "Average depth of the object: 1.4601119016394495\n",
      "For calibration, adding 0.15: 1.6101119016394494\n"
     ]
    },
    {
     "data": {
      "image/png": "[encoded data removed]",
      "text/plain": [
       "<Figure size 640x480 with 1 Axes>"
      ]
     },
     "metadata": {},
     "output_type": "display_data"
    },
    {
     "name": "stdout",
     "output_type": "stream",
     "text": [
      "3. bottle\n",
      "Center point of the contour: (517, 161)\n",
      "Average depth of the object: 0.7574922669240965\n",
      "For calibration, adding 0.15: 0.9074922669240966\n"
     ]
    },
    {
     "data": {
      "image/png": "[encoded data removed]",
      "text/plain": [
       "<Figure size 640x480 with 1 Axes>"
      ]
     },
     "metadata": {},
     "output_type": "display_data"
    },
    {
     "name": "stdout",
     "output_type": "stream",
     "text": [
      "init\n"
     ]
    },
    {
     "name": "stderr",
     "output_type": "stream",
     "text": [
      "[1:55:53.323388314] [4243] \u001b[1;32m INFO \u001b[1;37mCamera \u001b[1;34mcamera_manager.cpp:325 \u001b[0mlibcamera v0.3.2+99-1230f78d\n",
      "[1:55:53.353049903] [25039] \u001b[1;33m WARN \u001b[1;37mRPiSdn \u001b[1;34msdn.cpp:40 \u001b[0mUsing legacy SDN tuning - please consider moving SDN inside rpi.denoise\n",
      "[1:55:53.354974171] [25039] \u001b[1;32m INFO \u001b[1;37mRPI \u001b[1;34mvc4.cpp:447 \u001b[0mRegistered camera /base/soc/i2c0mux/i2c@1/imx708@1a to Unicam device /dev/media3 and ISP device /dev/media0\n",
      "[1:55:53.355029226] [25039] \u001b[1;32m INFO \u001b[1;37mRPI \u001b[1;34mpipeline_base.cpp:1120 \u001b[0mUsing configuration file '/usr/share/libcamera/pipeline/rpi/vc4/rpi_apps.yaml'\n",
      "[1:55:53.362050153] [4243] \u001b[1;32m INFO \u001b[1;37mCamera \u001b[1;34mcamera.cpp:1197 \u001b[0mconfiguring streams: (0) 640x310-RGB888 (1) 1536x864-SGRBG10_CSI2P\n",
      "[1:55:53.362471077] [25039] \u001b[1;32m INFO \u001b[1;37mRPI \u001b[1;34mvc4.cpp:622 \u001b[0mSensor: /base/soc/i2c0mux/i2c@1/imx708@1a - Selected sensor format: 1536x864-SGRBG10_1X10 - Selected unicam format: 1536x864-pgAA\n"
     ]
    },
    {
     "name": "stdout",
     "output_type": "stream",
     "text": [
      "\n",
      "0: 224x224 water_bottle 0.53, pop_bottle 0.10, water_jug 0.04, soap_dispenser 0.04, wine_bottle 0.03, 106.2ms\n",
      "Speed: 18.5ms preprocess, 106.2ms inference, 0.1ms postprocess per image at shape (1, 3, 224, 224)\n",
      "0\n",
      "Bottle found with class index 898\n",
      "\n",
      "0: 320x640 3 bottles, 699.0ms\n",
      "Speed: 6.7ms preprocess, 699.0ms inference, 10.4ms postprocess per image at shape (1, 3, 320, 640)\n",
      "Starting depth estimation. This will take about 20-30 seconds\n",
      "Inference time: 27.523988485336304 seconds\n",
      "1. bottle\n",
      "Center point of the contour: (154, 163)\n",
      "Average depth of the object: 0.9989781365814062\n",
      "For calibration, adding 0.15: 1.1489781365814062\n"
     ]
    },
    {
     "data": {
      "image/png": "[encoded data removed]",
      "text/plain": [
       "<Figure size 640x480 with 1 Axes>"
      ]
     },
     "metadata": {},
     "output_type": "display_data"
    },
    {
     "name": "stdout",
     "output_type": "stream",
     "text": [
      "2. bottle\n",
      "Center point of the contour: (351, 171)\n",
      "Average depth of the object: 1.449987057375402\n",
      "For calibration, adding 0.15: 1.5999870573754018\n"
     ]
    },
    {
     "data": {
      "image/png": "[encoded data removed]",
      "text/plain": [
       "<Figure size 640x480 with 1 Axes>"
      ]
     },
     "metadata": {},
     "output_type": "display_data"
    },
    {
     "name": "stdout",
     "output_type": "stream",
     "text": [
      "3. bottle\n",
      "Center point of the contour: (517, 161)\n",
      "Average depth of the object: 0.7494579738513296\n",
      "For calibration, adding 0.15: 0.8994579738513296\n"
     ]
    },
    {
     "data": {
      "image/png": "[encoded data removed]",
      "text/plain": [
       "<Figure size 640x480 with 1 Axes>"
      ]
     },
     "metadata": {},
     "output_type": "display_data"
    },
    {
     "name": "stdout",
     "output_type": "stream",
     "text": [
      "init\n"
     ]
    },
    {
     "name": "stderr",
     "output_type": "stream",
     "text": [
      "[1:56:26.766613717] [4243] \u001b[1;32m INFO \u001b[1;37mCamera \u001b[1;34mcamera_manager.cpp:325 \u001b[0mlibcamera v0.3.2+99-1230f78d\n",
      "[1:56:26.796238265] [25397] \u001b[1;33m WARN \u001b[1;37mRPiSdn \u001b[1;34msdn.cpp:40 \u001b[0mUsing legacy SDN tuning - please consider moving SDN inside rpi.denoise\n",
      "[1:56:26.798111811] [25397] \u001b[1;32m INFO \u001b[1;37mRPI \u001b[1;34mvc4.cpp:447 \u001b[0mRegistered camera /base/soc/i2c0mux/i2c@1/imx708@1a to Unicam device /dev/media3 and ISP device /dev/media0\n",
      "[1:56:26.798166551] [25397] \u001b[1;32m INFO \u001b[1;37mRPI \u001b[1;34mpipeline_base.cpp:1120 \u001b[0mUsing configuration file '/usr/share/libcamera/pipeline/rpi/vc4/rpi_apps.yaml'\n",
      "[1:56:26.805882844] [4243] \u001b[1;32m INFO \u001b[1;37mCamera \u001b[1;34mcamera.cpp:1197 \u001b[0mconfiguring streams: (0) 640x310-RGB888 (1) 1536x864-SGRBG10_CSI2P\n",
      "[1:56:26.806323823] [25397] \u001b[1;32m INFO \u001b[1;37mRPI \u001b[1;34mvc4.cpp:622 \u001b[0mSensor: /base/soc/i2c0mux/i2c@1/imx708@1a - Selected sensor format: 1536x864-SGRBG10_1X10 - Selected unicam format: 1536x864-pgAA\n"
     ]
    },
    {
     "name": "stdout",
     "output_type": "stream",
     "text": [
      "\n",
      "0: 224x224 water_bottle 0.53, pop_bottle 0.09, water_jug 0.05, wine_bottle 0.03, soap_dispenser 0.03, 123.9ms\n",
      "Speed: 14.8ms preprocess, 123.9ms inference, 0.3ms postprocess per image at shape (1, 3, 224, 224)\n",
      "0\n",
      "Bottle found with class index 898\n",
      "\n",
      "0: 320x640 3 bottles, 684.4ms\n",
      "Speed: 4.9ms preprocess, 684.4ms inference, 10.5ms postprocess per image at shape (1, 3, 320, 640)\n",
      "Starting depth estimation. This will take about 20-30 seconds\n",
      "Inference time: 26.972827672958374 seconds\n",
      "1. bottle\n",
      "Center point of the contour: (154, 163)\n",
      "Average depth of the object: 0.9973790924540414\n",
      "For calibration, adding 0.15: 1.1473790924540415\n"
     ]
    },
    {
     "data": {
      "image/png": "[encoded data removed]",
      "text/plain": [
       "<Figure size 640x480 with 1 Axes>"
      ]
     },
     "metadata": {},
     "output_type": "display_data"
    },
    {
     "name": "stdout",
     "output_type": "stream",
     "text": [
      "2. bottle\n",
      "Center point of the contour: (351, 171)\n",
      "Average depth of the object: 1.4279537242257065\n",
      "For calibration, adding 0.15: 1.5779537242257065\n"
     ]
    },
    {
     "data": {
      "image/png": "[encoded data removed]",
      "text/plain": [
       "<Figure size 640x480 with 1 Axes>"
      ]
     },
     "metadata": {},
     "output_type": "display_data"
    },
    {
     "name": "stdout",
     "output_type": "stream",
     "text": [
      "3. bottle\n",
      "Center point of the contour: (517, 161)\n",
      "Average depth of the object: 0.7443586018784426\n",
      "For calibration, adding 0.15: 0.8943586018784426\n"
     ]
    },
    {
     "data": {
      "image/png": "[encoded data removed]",
      "text/plain": [
       "<Figure size 640x480 with 1 Axes>"
      ]
     },
     "metadata": {},
     "output_type": "display_data"
    },
    {
     "name": "stdout",
     "output_type": "stream",
     "text": [
      "init\n"
     ]
    },
    {
     "name": "stderr",
     "output_type": "stream",
     "text": [
      "[1:56:58.965520320] [4243] \u001b[1;32m INFO \u001b[1;37mCamera \u001b[1;34mcamera_manager.cpp:325 \u001b[0mlibcamera v0.3.2+99-1230f78d\n",
      "[1:56:58.996561673] [25744] \u001b[1;33m WARN \u001b[1;37mRPiSdn \u001b[1;34msdn.cpp:40 \u001b[0mUsing legacy SDN tuning - please consider moving SDN inside rpi.denoise\n",
      "[1:56:58.998916882] [25744] \u001b[1;32m INFO \u001b[1;37mRPI \u001b[1;34mvc4.cpp:447 \u001b[0mRegistered camera /base/soc/i2c0mux/i2c@1/imx708@1a to Unicam device /dev/media3 and ISP device /dev/media0\n",
      "[1:56:58.998975660] [25744] \u001b[1;32m INFO \u001b[1;37mRPI \u001b[1;34mpipeline_base.cpp:1120 \u001b[0mUsing configuration file '/usr/share/libcamera/pipeline/rpi/vc4/rpi_apps.yaml'\n",
      "[1:56:59.007231856] [4243] \u001b[1;32m INFO \u001b[1;37mCamera \u001b[1;34mcamera.cpp:1197 \u001b[0mconfiguring streams: (0) 640x310-RGB888 (1) 1536x864-SGRBG10_CSI2P\n",
      "[1:56:59.007652224] [25744] \u001b[1;32m INFO \u001b[1;37mRPI \u001b[1;34mvc4.cpp:622 \u001b[0mSensor: /base/soc/i2c0mux/i2c@1/imx708@1a - Selected sensor format: 1536x864-SGRBG10_1X10 - Selected unicam format: 1536x864-pgAA\n"
     ]
    },
    {
     "name": "stdout",
     "output_type": "stream",
     "text": [
      "\n",
      "0: 224x224 water_bottle 0.56, pop_bottle 0.10, water_jug 0.04, wine_bottle 0.03, beer_bottle 0.03, 105.8ms\n",
      "Speed: 15.7ms preprocess, 105.8ms inference, 0.1ms postprocess per image at shape (1, 3, 224, 224)\n",
      "0\n",
      "Bottle found with class index 898\n",
      "\n",
      "0: 320x640 3 bottles, 709.6ms\n",
      "Speed: 4.9ms preprocess, 709.6ms inference, 13.0ms postprocess per image at shape (1, 3, 320, 640)\n",
      "Starting depth estimation. This will take about 20-30 seconds\n",
      "Inference time: 26.74686598777771 seconds\n",
      "1. bottle\n",
      "Center point of the contour: (154, 163)\n",
      "Average depth of the object: 1.001238394683848\n",
      "For calibration, adding 0.15: 1.1512383946838478\n"
     ]
    },
    {
     "data": {
      "image/png": "[encoded data removed]",
      "text/plain": [
       "<Figure size 640x480 with 1 Axes>"
      ]
     },
     "metadata": {},
     "output_type": "display_data"
    },
    {
     "name": "stdout",
     "output_type": "stream",
     "text": [
      "2. bottle\n",
      "Center point of the contour: (351, 171)\n",
      "Average depth of the object: 1.4327652024333937\n",
      "For calibration, adding 0.15: 1.5827652024333936\n"
     ]
    },
    {
     "data": {
      "image/png": "[encoded data removed]",
      "text/plain": [
       "<Figure size 640x480 with 1 Axes>"
      ]
     },
     "metadata": {},
     "output_type": "display_data"
    },
    {
     "name": "stdout",
     "output_type": "stream",
     "text": [
      "3. bottle\n",
      "Center point of the contour: (517, 162)\n",
      "Average depth of the object: 0.7554273886353272\n",
      "For calibration, adding 0.15: 0.9054273886353272\n"
     ]
    },
    {
     "data": {
      "image/png": "[encoded data removed]",
      "text/plain": [
       "<Figure size 640x480 with 1 Axes>"
      ]
     },
     "metadata": {},
     "output_type": "display_data"
    },
    {
     "name": "stdout",
     "output_type": "stream",
     "text": [
      "finished. printing!!!\n",
      "finished. printing!!!\n",
      "finished. printing!!!\n",
      "Run 1:\n",
      "Bottle: left\n",
      "Average depth: 1.0037441283941964\n",
      "Max depth: 1.0983532667160034\n",
      "Depth at centerpoint: 1.0017306804656982\n",
      "\n",
      "\n",
      "Bottle: center\n",
      "Average depth: 1.4601119016394495\n",
      "Max depth: 1.5617458820343018\n",
      "Depth at centerpoint: 1.4577877521514893\n",
      "\n",
      "\n",
      "Bottle: right\n",
      "Average depth: 0.7574922669240965\n",
      "Max depth: 0.9709356427192688\n",
      "Depth at centerpoint: 0.751258909702301\n",
      "\n",
      "\n",
      "Data exported to output/depth_estimates.csv\n",
      "Run 2:\n",
      "Bottle: left\n",
      "Average depth: 0.9989781365814062\n",
      "Max depth: 1.1009985208511353\n",
      "Depth at centerpoint: 0.997925877571106\n",
      "\n",
      "\n",
      "Bottle: center\n",
      "Average depth: 1.449987057375402\n",
      "Max depth: 1.556693196296692\n",
      "Depth at centerpoint: 1.4442176818847656\n",
      "\n",
      "\n",
      "Bottle: right\n",
      "Average depth: 0.7494579738513296\n",
      "Max depth: 0.9646999835968018\n",
      "Depth at centerpoint: 0.7433346509933472\n",
      "\n",
      "\n",
      "Data exported to output/depth_estimates.csv\n",
      "Run 3:\n",
      "Bottle: left\n",
      "Average depth: 0.9973790924540414\n",
      "Max depth: 1.1016693115234375\n",
      "Depth at centerpoint: 0.9966254830360413\n",
      "\n",
      "\n",
      "Bottle: center\n",
      "Average depth: 1.4279537242257065\n",
      "Max depth: 1.5340838432312012\n",
      "Depth at centerpoint: 1.4252746105194092\n",
      "\n",
      "\n",
      "Bottle: right\n",
      "Average depth: 0.7443586018784426\n",
      "Max depth: 0.9688652753829956\n",
      "Depth at centerpoint: 0.7336388826370239\n",
      "\n",
      "\n",
      "Data exported to output/depth_estimates.csv\n",
      "Run 4:\n",
      "Bottle: left\n",
      "Average depth: 1.001238394683848\n",
      "Max depth: 1.1087266206741333\n",
      "Depth at centerpoint: 0.9871241450309753\n",
      "\n",
      "\n",
      "Bottle: center\n",
      "Average depth: 1.4327652024333937\n",
      "Max depth: 1.5329188108444214\n",
      "Depth at centerpoint: 1.4276050329208374\n",
      "\n",
      "\n",
      "Bottle: right\n",
      "Average depth: 0.7554273886353272\n",
      "Max depth: 0.9745537638664246\n",
      "Depth at centerpoint: 0.7453086972236633\n",
      "\n",
      "\n",
      "Data exported to output/depth_estimates.csv\n"
     ]
    }
   ],
   "source": [
    "import csv\n",
    "\n",
    "def prettyprintEstimates(estimates):\n",
    "  for side, values in estimates.items():\n",
    "    print(f\"Bottle: {side}\")\n",
    "    print(f\"Average depth: {values[0]}\")\n",
    "    print(f\"Max depth: {values[1]}\")\n",
    "    print(f\"Depth at centerpoint: {values[2]}\")\n",
    "    print(\"\\n\")\n",
    "    \n",
    "\n",
    "# run entireModel 4 times\n",
    "results = []\n",
    "for _ in range(4):\n",
    "  result = runModel()\n",
    "  results.append(result)\n",
    "  # prettyprintEstimates(result)\n",
    "\n",
    "print('finished. printing!!!')\n",
    "print('finished. printing!!!')\n",
    "print('finished. printing!!!')\n",
    "\n",
    "# Pretty print the results\n",
    "for i, result in enumerate(results):\n",
    "  print(f\"Run {i + 1}:\")\n",
    "  prettyprintEstimates(result)\n",
    "\n",
    "\n",
    "  # Define the CSV file path\n",
    "  csv_file_path = 'output/depth_estimates.csv'\n",
    "\n",
    "  # Define the header\n",
    "  header = [\n",
    "    'left_average', 'left_max', 'left_centerpoint',\n",
    "    'center_average', 'center_max', 'center_centerpoint',\n",
    "    'right_average', 'right_max', 'right_centerpoint'\n",
    "  ]\n",
    "\n",
    "  # Write the data to the CSV file\n",
    "  with open(csv_file_path, mode='w', newline='') as file:\n",
    "    writer = csv.writer(file)\n",
    "    writer.writerow(header)\n",
    "    \n",
    "    for result in results:\n",
    "      row = [\n",
    "        result['left'][0], result['left'][1], result['left'][2],\n",
    "        result['center'][0], result['center'][1], result['center'][2],\n",
    "        result['right'][0], result['right'][1], result['right'][2]\n",
    "      ]\n",
    "      writer.writerow(row)\n",
    "\n",
    "  print(f\"Data exported to {csv_file_path}\")\n",
    "# calculate error\n",
    "# calculate what is standard error\n",
    "# depth vs error\n",
    "# \n"
   ]
  }
 ],
 "metadata": {
  "kernelspec": {
   "display_name": "env",
   "language": "python",
   "name": "python3"
  },
  "language_info": {
   "codemirror_mode": {
    "name": "ipython",
    "version": 3
   },
   "file_extension": ".py",
   "mimetype": "text/x-python",
   "name": "python",
   "nbconvert_exporter": "python",
   "pygments_lexer": "ipython3",
   "version": "3.11.2"
  }
 },
 "nbformat": 4,
 "nbformat_minor": 2
}
